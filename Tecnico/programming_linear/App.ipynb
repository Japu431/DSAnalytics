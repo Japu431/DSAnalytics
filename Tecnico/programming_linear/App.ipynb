{
 "cells": [
  {
   "cell_type": "markdown",
   "metadata": {},
   "source": [
    "# Introdução\n",
    "\n",
    "# O que é o problema de otimização? \n",
    "O objetivo da otimização é encontrar a melhor solução para um problema entre um grande conjunto de soluções possiveis. O Problema de otimização se baseia, principalmente em:\n",
    "    - Um objetivo a quantidade que você quer otimizar. Para configurar um problema de otimização, defina uma função que calcule o valor do objetivo para qualquer solução possível. Isso é chamado de função de objetivo. Uma solução idela é aquela em que o valor da função objetiva é melhor (\"Melhor\" pode ser o máximo ou mínimo)\n",
    "    \n",
    "A primeira etapa para resolver um problema de otimização é identificar o objetivo e as restrições. \n",
    "\n",
    "\n",
    "\n"
   ]
  }
 ],
 "metadata": {
  "kernelspec": {
   "display_name": "Python 3 (ipykernel)",
   "language": "python",
   "name": "python3"
  },
  "language_info": {
   "codemirror_mode": {
    "name": "ipython",
    "version": 3
   },
   "file_extension": ".py",
   "mimetype": "text/x-python",
   "name": "python",
   "nbconvert_exporter": "python",
   "pygments_lexer": "ipython3",
   "version": "3.11.5"
  }
 },
 "nbformat": 4,
 "nbformat_minor": 4
}
